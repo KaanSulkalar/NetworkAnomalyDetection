{
 "cells": [
  {
   "cell_type": "code",
   "source": [
    "# 01_data_preprocessing.ipynb\n",
    "import pandas as pd\n",
    "import numpy as np\n",
    "from sklearn.preprocessing import LabelEncoder, StandardScaler\n",
    "from sklearn.model_selection import train_test_split\n",
    "df = pd.read_csv('../data/UNSW_NB15.csv')\n",
    "df.drop(['id'], axis=1, inplace=True, errors='ignore')\n",
    "label_cols = df.select_dtypes(include=['object']).columns\n",
    "for col in label_cols:\n",
    "    df[col] = LabelEncoder().fit_transform(df[col])\n",
    "X = df.drop('label', axis=1)\n",
    "y = df['label']\n",
    "X_train, X_test, y_train, y_test = train_test_split(X, y, test_size=0.2, random_state=42)\n",
    "scaler = StandardScaler()\n",
    "X_train = scaler.fit_transform(X_train)\n",
    "X_test = scaler.transform(X_test)\n",
    "print('Preprocessing complete.')"
   ]
  }
 ],
 "metadata": {},
 "nbformat": 4,
 "nbformat_minor": 2
}
{
 "cells": [
  {
   "cell_type": "code",
   "source": [
    "# 03_dashboard_demo.ipynb\n",
    "import pandas as pd\n",
    "import streamlit as st\n",
    "import joblib\n",
    "import plotly.express as px\n",
    "st.title('Network Traffic Anomaly Detection Dashboard')\n",
    "uploaded_file = st.file_uploader('Upload CSV', type=['csv'])\n",
    "if uploaded_file:\n",
    "    df = pd.read_csv(uploaded_file)\n",
    "    model = joblib.load('../src/model_rf.pkl')\n",
    "    preds = model.predict(df)\n",
    "    df['Prediction'] = preds\n",
    "    st.write(df.head())\n",
    "    fig = px.histogram(df, x='Prediction', color='Prediction', title='Anomaly Distribution')\n",
    "    st.plotly_chart(fig)"
   ]
  }
 ],
 "metadata": {},
 "nbformat": 4,
 "nbformat_minor": 2
}